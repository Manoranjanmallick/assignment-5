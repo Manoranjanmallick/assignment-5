{
 "cells": [
  {
   "cell_type": "code",
   "execution_count": 1,
   "id": "7f60b483",
   "metadata": {},
   "outputs": [],
   "source": [
    "#1. What does an empty dictionary&#39;s code look like?\n",
    "d={}"
   ]
  },
  {
   "cell_type": "code",
   "execution_count": 3,
   "id": "b71b05e0",
   "metadata": {},
   "outputs": [],
   "source": [
    "#2. What is the value of a dictionary value with the key 'foo' and the value 42?\n",
    "d1={'foo':42}"
   ]
  },
  {
   "cell_type": "code",
   "execution_count": 4,
   "id": "e7aad08c",
   "metadata": {},
   "outputs": [],
   "source": [
    "#3. What is the most significant distinction between a dictionary and a list?\n",
    "# It aleays stores data in \"{}\" and always stores data as key and value pair."
   ]
  },
  {
   "cell_type": "code",
   "execution_count": 8,
   "id": "601f6596",
   "metadata": {},
   "outputs": [],
   "source": [
    "#4. What happens if you try to access spam['foo'] if spam is {'bar': 100}?\n",
    "spam={'bar': 100}\n",
    "#spam['foo'] it will run into 'key error'"
   ]
  },
  {
   "cell_type": "code",
   "execution_count": 2,
   "id": "07dea903",
   "metadata": {},
   "outputs": [],
   "source": [
    "#5. If a dictionary is stored in spam, what is the difference between the expressions 'cat' in spam and'cat' in spam.keys()?\n",
    "# expressions 'cat' in spam: it will check 'cat' in all the dictionary\n",
    "# expressions'cat' in spam.keys(): it will check 'cat' in only keys"
   ]
  },
  {
   "cell_type": "code",
   "execution_count": 3,
   "id": "b4d64c12",
   "metadata": {},
   "outputs": [],
   "source": [
    "#6. If a dictionary is stored in spam, what is the difference between the expressions 'cat' in spam and 'cat' in spam.values()?\n",
    "# expressions 'cat' in spam: it will check 'cat' in all the dictionary\n",
    "# # expressions'cat' in spam.keys(): it will check 'cat' in only values"
   ]
  },
  {
   "cell_type": "code",
   "execution_count": 5,
   "id": "e2d017fa",
   "metadata": {},
   "outputs": [],
   "source": [
    "# 7. What is a shortcut for the following code?\n",
    "#if 'color' not in spam:\n",
    "#spam['color'] = 'black'\n",
    "#if 'color' not in spam:\n",
    "    #spam['color'] = 'black'\n"
   ]
  },
  {
   "cell_type": "code",
   "execution_count": 7,
   "id": "5634b130",
   "metadata": {},
   "outputs": [
    {
     "name": "stdout",
     "output_type": "stream",
     "text": [
      "{'key1': 'value1', 'key2': 'value2', 'key3': 'value3'}\n"
     ]
    }
   ],
   "source": [
    "#8. How do you 'pretty print' dictionary values using which module and function?\n",
    "import pprint\n",
    "\n",
    "d = {'key1': 'value1', 'key2': 'value2', 'key3': 'value3'}\n",
    "\n",
    "pprint.pprint(d)\n"
   ]
  },
  {
   "cell_type": "code",
   "execution_count": null,
   "id": "61150ca3",
   "metadata": {},
   "outputs": [],
   "source": []
  }
 ],
 "metadata": {
  "kernelspec": {
   "display_name": "Python 3 (ipykernel)",
   "language": "python",
   "name": "python3"
  },
  "language_info": {
   "codemirror_mode": {
    "name": "ipython",
    "version": 3
   },
   "file_extension": ".py",
   "mimetype": "text/x-python",
   "name": "python",
   "nbconvert_exporter": "python",
   "pygments_lexer": "ipython3",
   "version": "3.9.13"
  }
 },
 "nbformat": 4,
 "nbformat_minor": 5
}
